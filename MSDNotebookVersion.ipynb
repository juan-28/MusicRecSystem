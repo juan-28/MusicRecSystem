{
 "cells": [
  {
   "cell_type": "markdown",
   "metadata": {},
   "source": [
    "## Data Loading and Preprocessing"
   ]
  },
  {
   "cell_type": "code",
   "execution_count": 5,
   "metadata": {},
   "outputs": [
    {
     "name": "stdout",
     "output_type": "stream",
     "text": [
      "Loaded raw plays data from ./MSD/train_triplets.txt\n",
      "Loaded song to tracks data from ./MSD/taste_profile_song_to_tracks.txt\n",
      "Loaded metadata from ./MSD/track_metadata.csv\n",
      "All data successfully loaded from directory: ./MSD\n"
     ]
    }
   ],
   "source": [
    "\n",
    "import os\n",
    "from pyspark.sql import SparkSession\n",
    "from pyspark.sql.types import *\n",
    "from pyspark.sql import functions as F\n",
    "from pyspark.sql.functions import monotonically_increasing_id\n",
    "\n",
    "def load_data(base_dir):\n",
    "    # File paths\n",
    "    triplets_filename = os.path.join(base_dir, 'train_triplets.txt')\n",
    "    songs2tracks_filename = os.path.join(base_dir, 'taste_profile_song_to_tracks.txt')\n",
    "    metadata_filename = os.path.join(base_dir, 'track_metadata.csv')\n",
    "\n",
    "    # Schema defs\n",
    "    plays_df_schema = StructType([StructField('userId', StringType()), StructField('songId', StringType()), StructField('Plays', IntegerType())])\n",
    "    songs2tracks_df_schema = StructType([StructField('songId', StringType()), StructField('trackId', StringType())])\n",
    "    metadata_df_schema = StructType(\n",
    "  [StructField('trackId', StringType()),\n",
    "   StructField('title', StringType()),\n",
    "   StructField('songId', StringType()),\n",
    "   StructField('release', StringType()),\n",
    "   StructField('artist_id', StringType()),\n",
    "   StructField('artist_mbid', StringType()),\n",
    "   StructField('artist_name', StringType()),\n",
    "   StructField('duration', DoubleType()),\n",
    "   StructField('artist_familiarity', DoubleType()),\n",
    "   StructField('artist_hotttness', DoubleType()),\n",
    "   StructField('year', IntegerType()),\n",
    "   StructField('track_7digitalid', IntegerType()),\n",
    "   StructField('shs_perf', DoubleType()),\n",
    "   StructField('shs_work', DoubleType())]\n",
    ")\n",
    "\n",
    "\n",
    "\n",
    "    spark = SparkSession.builder.appName(\"MusicRec\").getOrCreate()\n",
    "\n",
    "    # Loading data\n",
    "    raw_plays_df = spark.read.format('com.databricks.spark.csv').options(delimiter='\\t', header=False, inferSchema=False).schema(plays_df_schema).load(triplets_filename)\n",
    "    print(f\"Loaded raw plays data from {triplets_filename}\")\n",
    "\n",
    "    songs2tracks_df = spark.read.format('com.databricks.spark.csv').options(delimiter='\\t', header=False, inferSchema=False).schema(songs2tracks_df_schema).load(songs2tracks_filename)\n",
    "    print(f\"Loaded song to tracks data from {songs2tracks_filename}\")\n",
    "\n",
    "    metadata_df = spark.read.format('com.databricks.spark.csv').options(delimiter=',', header=False, inferSchema=False).schema(metadata_df_schema).load(metadata_filename)\n",
    "    print(f\"Loaded metadata from {metadata_filename}\")\n",
    "    \n",
    "    return raw_plays_df, songs2tracks_df, metadata_df\n",
    "\n",
    "\n",
    "    \n",
    "\n",
    "if __name__ == '__main__':\n",
    "    base_dir = './MSD'\n",
    "    raw_plays_df, songs2tracks_df, metadata_df = load_data(base_dir)\n",
    "    print(\"All data successfully loaded from directory:\", base_dir)"
   ]
  },
  {
   "cell_type": "code",
   "execution_count": 6,
   "metadata": {},
   "outputs": [],
   "source": [
    "def prepare_transformed_data(raw_plays_df):\n",
    "    userId_change = raw_plays_df.select('userId').distinct().select('userId', F.monotonically_increasing_id().alias('new_userId'))\n",
    "    songId_change = raw_plays_df.select('songId').distinct().select('songId', F.monotonically_increasing_id().alias('new_songId'))\n",
    "    \n",
    "    unique_users = userId_change.count()\n",
    "    unique_songs = songId_change.count()\n",
    "    \n",
    "    raw_plays_df_with_int_ids = raw_plays_df.join(userId_change, 'userId').join(songId_change, 'songId')\n",
    "    raw_plays_df_with_int_ids = raw_plays_df_with_int_ids.filter(raw_plays_df_with_int_ids.new_userId < unique_users/2)\n",
    "\n",
    "    # Cache the transformed DataFrame\n",
    "    raw_plays_df_with_int_ids.cache()\n",
    "\n",
    "    return raw_plays_df_with_int_ids"
   ]
  },
  {
   "cell_type": "markdown",
   "metadata": {},
   "source": [
    "# Data Analysis and Visualization"
   ]
  },
  {
   "cell_type": "code",
   "execution_count": 7,
   "metadata": {},
   "outputs": [
    {
     "name": "stderr",
     "output_type": "stream",
     "text": [
      "                                                                                \r"
     ]
    }
   ],
   "source": [
    "import numpy as np\n",
    "import matplotlib.pyplot as plt\n",
    "import matplotlib.cm as cm\n",
    "\n",
    "raw_plays_df_with_int_ids = prepare_transformed_data(raw_plays_df)\n"
   ]
  },
  {
   "cell_type": "code",
   "execution_count": 8,
   "metadata": {},
   "outputs": [
    {
     "name": "stderr",
     "output_type": "stream",
     "text": [
      "23/11/29 10:40:39 WARN RowBasedKeyValueBatch: Calling spill() on RowBasedKeyValueBatch. Will not spill but return 0.\n",
      "/var/folders/fk/b7dd25t91rq06z3l8zsn15r00000gn/T/ipykernel_61636/2904824722.py:12: MatplotlibDeprecationWarning: The get_cmap function was deprecated in Matplotlib 3.7 and will be removed two minor releases later. Use ``matplotlib.colormaps[name]`` or ``matplotlib.colormaps.get_cmap(obj)`` instead.\n",
      "  cmap = cm.get_cmap(colorMap)\n"
     ]
    },
    {
     "data": {
      "image/png": "[encoded data removed]",
      "text/plain": [
       "<Figure size 640x480 with 1 Axes>"
      ]
     },
     "metadata": {},
     "output_type": "display_data"
    }
   ],
   "source": [
    "\n",
    "# Count total entries\n",
    "total_entries = raw_plays_df_with_int_ids.count()\n",
    "\n",
    "# Find percentage listens by number of songs played\n",
    "number_listens = []\n",
    "for i in range(10):\n",
    "    number_listens.append(float(raw_plays_df_with_int_ids.filter(raw_plays_df_with_int_ids.Plays == i+1).count())/total_entries*100)\n",
    "\n",
    "# create plot\n",
    "bar_width = 0.7\n",
    "colorMap = 'Set1'\n",
    "cmap = cm.get_cmap(colorMap)\n",
    "\n",
    "fig, ax = plt.subplots()\n",
    "ax.bar(np.linspace(1, 10, 10), number_listens, width=bar_width, color=cmap(0))\n",
    "ax.set_xticks(np.linspace(1, 10, 10) + bar_width/2.0)\n",
    "ax.set_xticklabels(np.linspace(1, 10, 10))\n",
    "ax.set_xlabel('Number of Plays')\n",
    "ax.set_ylabel('%')\n",
    "ax.set_title('Percentage Number of Plays of Songs')\n",
    "\n",
    "plt.show()"
   ]
  },
  {
   "cell_type": "code",
   "execution_count": 31,
   "metadata": {},
   "outputs": [
    {
     "data": {
      "image/png": "[encoded data removed]",
      "text/plain": [
       "<Figure size 1500x927.07 with 1 Axes>"
      ]
     },
     "metadata": {},
     "output_type": "display_data"
    },
    {
     "name": "stderr",
     "output_type": "stream",
     "text": [
      "23/11/29 18:04:01 WARN TransportChannelHandler: Exception in connection from /192.168.4.28:60167\n",
      "java.io.IOException: Operation timed out\n",
      "\tat java.base/sun.nio.ch.FileDispatcherImpl.read0(Native Method)\n",
      "\tat java.base/sun.nio.ch.SocketDispatcher.read(SocketDispatcher.java:39)\n",
      "\tat java.base/sun.nio.ch.IOUtil.readIntoNativeBuffer(IOUtil.java:276)\n",
      "\tat java.base/sun.nio.ch.IOUtil.read(IOUtil.java:233)\n",
      "\tat java.base/sun.nio.ch.IOUtil.read(IOUtil.java:223)\n",
      "\tat java.base/sun.nio.ch.SocketChannelImpl.read(SocketChannelImpl.java:356)\n",
      "\tat io.netty.buffer.PooledByteBuf.setBytes(PooledByteBuf.java:254)\n",
      "\tat io.netty.buffer.AbstractByteBuf.writeBytes(AbstractByteBuf.java:1132)\n",
      "\tat io.netty.channel.socket.nio.NioSocketChannel.doReadBytes(NioSocketChannel.java:357)\n",
      "\tat io.netty.channel.nio.AbstractNioByteChannel$NioByteUnsafe.read(AbstractNioByteChannel.java:151)\n",
      "\tat io.netty.channel.nio.NioEventLoop.processSelectedKey(NioEventLoop.java:788)\n",
      "\tat io.netty.channel.nio.NioEventLoop.processSelectedKeysOptimized(NioEventLoop.java:724)\n",
      "\tat io.netty.channel.nio.NioEventLoop.processSelectedKeys(NioEventLoop.java:650)\n",
      "\tat io.netty.channel.nio.NioEventLoop.run(NioEventLoop.java:562)\n",
      "\tat io.netty.util.concurrent.SingleThreadEventExecutor$4.run(SingleThreadEventExecutor.java:997)\n",
      "\tat io.netty.util.internal.ThreadExecutorMap$2.run(ThreadExecutorMap.java:74)\n",
      "\tat io.netty.util.concurrent.FastThreadLocalRunnable.run(FastThreadLocalRunnable.java:30)\n",
      "\tat java.base/java.lang.Thread.run(Thread.java:829)\n"
     ]
    }
   ],
   "source": [
    "import matplotlib.pyplot as plt\n",
    "import seaborn as sns\n",
    "import numpy as np\n",
    "import matplotlib.cm as cm\n",
    "\n",
    "# Set the color and style\n",
    "sns.set_context(\"notebook\", font_scale=1.25, rc={\"lines.linewidth\": 2.5})\n",
    "sns.set_palette(\"husl\")\n",
    "\n",
    "# Create the plot\n",
    "fig, ax = plt.subplots(figsize=(15, 15/1.6180))\n",
    "\n",
    "# Plotting\n",
    "ax.bar(np.arange(10), number_listens, width=0.7)\n",
    "\n",
    "# Set ticks and labels\n",
    "ax.set_xticks(np.arange(10))\n",
    "ax.set_xticklabels(np.arange(1, 11))\n",
    "\n",
    "# Styling the plot (colors, labels, and title)\n",
    "ax.set_xlabel('Number of Plays', color='white')\n",
    "ax.set_ylabel('%', color='white')\n",
    "ax.set_title('Percentage Number of Plays of Songs', color='white')\n",
    "ax.tick_params(colors='white')\n",
    "\n",
    "# Set background color\n",
    "ax.set_facecolor('#17162e')\n",
    "fig.set_facecolor('#17162e')\n",
    "\n",
    "ax.grid(True, color='white', linestyle='-', linewidth=0.5, alpha=0.5)  # Adjust alpha for transparency\n",
    "ax.set_axisbelow(True) \n",
    "\n",
    "# Show the plot\n",
    "plt.show()\n"
   ]
  },
  {
   "cell_type": "markdown",
   "metadata": {},
   "source": [
    "## Data Preparation for ALS"
   ]
  },
  {
   "cell_type": "code",
   "execution_count": 9,
   "metadata": {},
   "outputs": [
    {
     "name": "stderr",
     "output_type": "stream",
     "text": [
      "                                                                                \r"
     ]
    },
    {
     "name": "stdout",
     "output_type": "stream",
     "text": [
      "Training: 1742149, validation: 580227, test: 579449\n",
      "\n",
      "+------------------+--------------------+-----+----------+----------+\n",
      "|            songId|              userId|Plays|new_userId|new_songId|\n",
      "+------------------+--------------------+-----+----------+----------+\n",
      "|SOAAAGQ12A8C1420C8|05a6529cf2d2ef2cd...|    1|     43809|     15709|\n",
      "|SOAAAGQ12A8C1420C8|08ea2b0d566996ed1...|    1|     56791|     15709|\n",
      "|SOAAAGQ12A8C1420C8|10b4f04d763f0b0a3...|    1|     11475|     15709|\n",
      "+------------------+--------------------+-----+----------+----------+\n",
      "only showing top 3 rows\n",
      "\n",
      "+------------------+--------------------+-----+----------+----------+\n",
      "|            songId|              userId|Plays|new_userId|new_songId|\n",
      "+------------------+--------------------+-----+----------+----------+\n",
      "|SOAAAGQ12A8C1420C8|01845f57f5c8b3309...|    2|      4510|     15709|\n",
      "|SOAAAGQ12A8C1420C8|0d15c552c704487af...|    5|     47569|     15709|\n",
      "|SOAAAGQ12A8C1420C8|382a6119435d4f94b...|    2|     52385|     15709|\n",
      "+------------------+--------------------+-----+----------+----------+\n",
      "only showing top 3 rows\n",
      "\n",
      "+------------------+--------------------+-----+----------+----------+\n",
      "|            songId|              userId|Plays|new_userId|new_songId|\n",
      "+------------------+--------------------+-----+----------+----------+\n",
      "|SOAAAGQ12A8C1420C8|05fa6dec89c91ab9d...|    5|     26780|     15709|\n",
      "|SOAAAGQ12A8C1420C8|1825fdc9642d6942a...|    1|      7549|     15709|\n",
      "|SOAAAGQ12A8C1420C8|30b9c19e99d798001...|    5|     19120|     15709|\n",
      "+------------------+--------------------+-----+----------+----------+\n",
      "only showing top 3 rows\n",
      "\n"
     ]
    }
   ],
   "source": [
    "# We'll hold out 60% for training, 20% of our data for validation, and leave 20% for testing\n",
    "seed = 42\n",
    "(split_60_df, split_a_20_df, split_b_20_df) = raw_plays_df_with_int_ids.randomSplit([0.6, 0.2, 0.2], seed = seed)\n",
    "\n",
    "# Let's cache these datasets for performance\n",
    "training_df = split_60_df.cache()\n",
    "validation_df = split_a_20_df.cache()\n",
    "test_df = split_b_20_df.cache()\n",
    "\n",
    "print('Training: {0}, validation: {1}, test: {2}\\n'.format(\n",
    "  training_df.count(), validation_df.count(), test_df.count())\n",
    ")\n",
    "training_df.show(3)\n",
    "validation_df.show(3)\n",
    "test_df.show(3)\n",
    "\n",
    "#Number of plays needs to be double type, not integers\n",
    "validation_df = validation_df.withColumn(\"Plays\", validation_df[\"Plays\"].cast(DoubleType()))\n",
    "\n",
    "from pyspark.sql.functions import col\n",
    "\n",
    "training_df = training_df.withColumn(\"new_songId\", col(\"new_songId\").cast(\"integer\"))\n",
    "training_df = training_df.withColumn(\"new_userId\", col(\"new_userId\").cast(\"integer\"))\n",
    "validation_df = validation_df.withColumn(\"new_songId\", col(\"new_songId\").cast(\"integer\"))\n",
    "validation_df = validation_df.withColumn(\"new_userId\", col(\"new_userId\").cast(\"integer\"))\n",
    "test_df = test_df.withColumn(\"new_songId\", col(\"new_songId\").cast(\"integer\"))\n",
    "test_df = test_df.withColumn(\"new_userId\", col(\"new_userId\").cast(\"integer\"))"
   ]
  },
  {
   "cell_type": "markdown",
   "metadata": {},
   "source": [
    "## ALS Model"
   ]
  },
  {
   "cell_type": "code",
   "execution_count": 10,
   "metadata": {},
   "outputs": [
    {
     "name": "stderr",
     "output_type": "stream",
     "text": [
      "23/11/29 10:40:58 WARN InstanceBuilder: Failed to load implementation from:dev.ludovic.netlib.blas.JNIBLAS\n",
      "23/11/29 10:40:58 WARN InstanceBuilder: Failed to load implementation from:dev.ludovic.netlib.lapack.JNILAPACK\n",
      "                                                                                \r"
     ]
    },
    {
     "name": "stdout",
     "output_type": "stream",
     "text": [
      "For rank 4, regularization parameter 0.15 the RMSE is 7.248855866512848\n"
     ]
    },
    {
     "name": "stderr",
     "output_type": "stream",
     "text": [
      "                                                                                \r"
     ]
    },
    {
     "name": "stdout",
     "output_type": "stream",
     "text": [
      "For rank 8, regularization parameter 0.15 the RMSE is 7.084499855560849\n",
      "For rank 12, regularization parameter 0.15 the RMSE is 6.878644639813168\n"
     ]
    },
    {
     "name": "stderr",
     "output_type": "stream",
     "text": [
      "                                                                                \r"
     ]
    },
    {
     "name": "stdout",
     "output_type": "stream",
     "text": [
      "For rank 16, regularization parameter 0.15 the RMSE is 6.77257514820361\n"
     ]
    },
    {
     "name": "stderr",
     "output_type": "stream",
     "text": [
      "                                                                                \r"
     ]
    },
    {
     "name": "stdout",
     "output_type": "stream",
     "text": [
      "For rank 4, regularization parameter 0.2 the RMSE is 7.068955691849577\n"
     ]
    },
    {
     "name": "stderr",
     "output_type": "stream",
     "text": [
      "                                                                                \r"
     ]
    },
    {
     "name": "stdout",
     "output_type": "stream",
     "text": [
      "For rank 8, regularization parameter 0.2 the RMSE is 6.93128717789518\n"
     ]
    },
    {
     "name": "stderr",
     "output_type": "stream",
     "text": [
      "                                                                                \r"
     ]
    },
    {
     "name": "stdout",
     "output_type": "stream",
     "text": [
      "For rank 12, regularization parameter 0.2 the RMSE is 6.755613459137208\n"
     ]
    },
    {
     "name": "stderr",
     "output_type": "stream",
     "text": [
      "                                                                                \r"
     ]
    },
    {
     "name": "stdout",
     "output_type": "stream",
     "text": [
      "For rank 16, regularization parameter 0.2 the RMSE is 6.677988711963104\n"
     ]
    },
    {
     "name": "stderr",
     "output_type": "stream",
     "text": [
      "                                                                                \r"
     ]
    },
    {
     "name": "stdout",
     "output_type": "stream",
     "text": [
      "For rank 4, regularization parameter 0.25 the RMSE is 6.951265543353586\n"
     ]
    },
    {
     "name": "stderr",
     "output_type": "stream",
     "text": [
      "                                                                                \r"
     ]
    },
    {
     "name": "stdout",
     "output_type": "stream",
     "text": [
      "For rank 8, regularization parameter 0.25 the RMSE is 6.842362211904542\n"
     ]
    },
    {
     "name": "stderr",
     "output_type": "stream",
     "text": [
      "                                                                                \r"
     ]
    },
    {
     "name": "stdout",
     "output_type": "stream",
     "text": [
      "For rank 12, regularization parameter 0.25 the RMSE is 6.675208560092893\n"
     ]
    },
    {
     "name": "stderr",
     "output_type": "stream",
     "text": [
      "                                                                                \r"
     ]
    },
    {
     "name": "stdout",
     "output_type": "stream",
     "text": [
      "For rank 16, regularization parameter 0.25 the RMSE is 6.622704106482466\n",
      "The best model was trained with regularization parameter 0.25\n",
      "The best model was trained with rank 16\n"
     ]
    }
   ],
   "source": [
    "from pyspark.ml.recommendation import ALS\n",
    "from pyspark.ml.evaluation import RegressionEvaluator\n",
    "\n",
    "# Let's initialize our ALS learner\n",
    "als = ALS()\n",
    "\n",
    "# Now set the parameters for the method\n",
    "als.setMaxIter(5)\\\n",
    "   .setSeed(seed)\\\n",
    "   .setItemCol(\"new_songId\")\\\n",
    "   .setRatingCol(\"Plays\")\\\n",
    "   .setUserCol(\"new_userId\")\n",
    "\n",
    "# Now let's compute an evaluation metric for our test dataset\n",
    "# We Create an RMSE evaluator using the label and predicted columns\n",
    "reg_eval = RegressionEvaluator(predictionCol=\"prediction\", labelCol=\"Plays\", metricName=\"rmse\")\n",
    "\n",
    "tolerance = 0.03\n",
    "ranks = [4, 8, 12, 16]\n",
    "regParams = [0.15, 0.2, 0.25]\n",
    "errors = [[0]*len(ranks)]*len(regParams)\n",
    "models = [[0]*len(ranks)]*len(regParams)\n",
    "err = 0\n",
    "min_error = float('inf')\n",
    "best_rank = -1\n",
    "i = 0\n",
    "for regParam in regParams:\n",
    "    j = 0\n",
    "    for rank in ranks:\n",
    "        # Set the rank here:\n",
    "        als.setParams(rank = rank, regParam = regParam)\n",
    "        # Create the model with these parameters.\n",
    "        model = als.fit(training_df)\n",
    "        # Run the model to create a prediction. Predict against the validation_df.\n",
    "        predict_df = model.transform(validation_df)\n",
    "        # Remove NaN values from prediction (due to SPARK-14489)\n",
    "        predicted_plays_df = predict_df.filter(predict_df.prediction != float('nan'))\n",
    "        predicted_plays_df = predicted_plays_df.withColumn(\"prediction\", F.abs(F.round(predicted_plays_df[\"prediction\"],0)))\n",
    "        # Run the previously created RMSE evaluator, reg_eval, on the predicted_ratings_df DataFrame\n",
    "        error = reg_eval.evaluate(predicted_plays_df)\n",
    "        errors[i][j] = error\n",
    "        models[i][j] = model\n",
    "        print(f'For rank {rank}, regularization parameter {regParam} the RMSE is {error}')\n",
    "        if error < min_error:\n",
    "            min_error = error\n",
    "            best_params = [i,j]\n",
    "        j += 1\n",
    "    i += 1\n",
    "\n",
    "als.setRegParam(regParams[best_params[0]])\n",
    "als.setRank(ranks[best_params[1]])\n",
    "print(f'The best model was trained with regularization parameter {regParams[best_params[0]]}')\n",
    "print(f'The best model was trained with rank {ranks[best_params[1]]}')\n",
    "my_model = models[best_params[0]][best_params[1]]\n",
    "\n"
   ]
  },
  {
   "cell_type": "code",
   "execution_count": 28,
   "metadata": {},
   "outputs": [
    {
     "data": {
      "image/png": "[encoded data removed]",
      "text/plain": [
       "<Figure size 1000x600 with 2 Axes>"
      ]
     },
     "metadata": {},
     "output_type": "display_data"
    }
   ],
   "source": [
    "import matplotlib.pyplot as plt\n",
    "import seaborn as sns\n",
    "import numpy as np\n",
    "\n",
    "# Assuming 'errors' is a 2D list of RMSE values\n",
    "# rows correspond to different regularization parameters\n",
    "# columns correspond to different ranks\n",
    "\n",
    "# Convert errors to a numpy array for easier handling\n",
    "error_matrix = np.array(errors)\n",
    "\n",
    "# Create a heatmap\n",
    "plt.figure(figsize=(10, 6))\n",
    "sns.heatmap(error_matrix, annot=True, fmt=\".3f\", linewidths=.5, cmap='viridis',\n",
    "            xticklabels=ranks, yticklabels=regParams)\n",
    "\n",
    "plt.title('ALS Model RMSE with Varying Ranks and Regularization Parameters')\n",
    "plt.xlabel('Rank')\n",
    "plt.ylabel('Regularization Parameter')\n",
    "plt.show()\n"
   ]
  },
  {
   "cell_type": "code",
   "execution_count": 11,
   "metadata": {},
   "outputs": [
    {
     "name": "stderr",
     "output_type": "stream",
     "text": [
      "                                                                                \r"
     ]
    },
    {
     "name": "stdout",
     "output_type": "stream",
     "text": [
      "The model had a RMSE on the test set of 6.817601266330173\n"
     ]
    }
   ],
   "source": [
    "test_df = test_df.withColumn(\"Plays\", test_df[\"Plays\"].cast(DoubleType()))\n",
    "predict_df = my_model.transform(test_df)\n",
    "\n",
    "# Remove NaN values from prediction\n",
    "predicted_test_df = predict_df.filter(predict_df.prediction != float('nan'))\n",
    "\n",
    "# Round floats to whole numbers\n",
    "predicted_test_df = predicted_test_df.withColumn(\"prediction\", F.abs(F.round(predicted_test_df[\"prediction\"],0)))\n",
    "# Run the previously created RMSE evaluator, reg_eval, on the predicted_test_df DataFrame\n",
    "test_RMSE = reg_eval.evaluate(predicted_test_df)\n",
    "\n",
    "print('The model had a RMSE on the test set of {0}'.format(test_RMSE))"
   ]
  },
  {
   "cell_type": "code",
   "execution_count": 12,
   "metadata": {},
   "outputs": [
    {
     "name": "stdout",
     "output_type": "stream",
     "text": [
      "+--------------------+\n",
      "|round(avg(Plays), 0)|\n",
      "+--------------------+\n",
      "|                 3.0|\n",
      "+--------------------+\n",
      "\n",
      "The average number of plays in the dataset is 3.0\n",
      "The RMSE on the average set is 6.666914929507369\n"
     ]
    }
   ],
   "source": [
    "avg_plays_df = training_df.groupBy().avg('Plays').select(F.round('avg(Plays)'))\n",
    "\n",
    "avg_plays_df.show(3)\n",
    "# Extract the average rating value. (This is row 0, column 0.)\n",
    "training_avg_plays = avg_plays_df.collect()[0][0]\n",
    "\n",
    "print('The average number of plays in the dataset is {0}'.format(training_avg_plays))\n",
    "\n",
    "# Add a column with the average rating\n",
    "test_for_avg_df = test_df.withColumn('prediction', F.lit(training_avg_plays))\n",
    "\n",
    "# Run the previously created RMSE evaluator, reg_eval, on the test_for_avg_df DataFrame\n",
    "test_avg_RMSE = reg_eval.evaluate(test_for_avg_df)\n",
    "\n",
    "print(\"The RMSE on the average set is {0}\".format(test_avg_RMSE))"
   ]
  },
  {
   "cell_type": "code",
   "execution_count": 13,
   "metadata": {},
   "outputs": [
    {
     "name": "stderr",
     "output_type": "stream",
     "text": [
      "                                                                                \r"
     ]
    },
    {
     "name": "stdout",
     "output_type": "stream",
     "text": [
      "Songs user has listened to:\n"
     ]
    },
    {
     "name": "stderr",
     "output_type": "stream",
     "text": [
      "                                                                                \r"
     ]
    },
    {
     "name": "stdout",
     "output_type": "stream",
     "text": [
      "+---------------+-------+\n",
      "|    artist_name|  title|\n",
      "+---------------+-------+\n",
      "|    OneRepublic|Secrets|\n",
      "|Vampire Weekend|    Run|\n",
      "|Vampire Weekend|Holiday|\n",
      "+---------------+-------+\n",
      "\n"
     ]
    }
   ],
   "source": [
    "UserID = 17\n",
    "listened_songs = raw_plays_df_with_int_ids.filter(raw_plays_df_with_int_ids.new_userId == UserID) \\\n",
    "                                          .join(metadata_df, 'songId') \\\n",
    "                                          .select('new_songId', 'artist_name', 'title') \\\n",
    "                                          \n",
    "# generate list of listened songs\n",
    "listened_songs_list = []\n",
    "for song in listened_songs.collect():\n",
    "    listened_songs_list.append(song['new_songId'])\n",
    "\n",
    "print('Songs user has listened to:')\n",
    "listened_songs.select('artist_name', 'title').show()"
   ]
  },
  {
   "cell_type": "code",
   "execution_count": 14,
   "metadata": {},
   "outputs": [
    {
     "name": "stdout",
     "output_type": "stream",
     "text": [
      "+----------+----------+----------+\n",
      "|new_songId|new_userId|prediction|\n",
      "+----------+----------+----------+\n",
      "|     39847|        17| 1.8039871|\n",
      "|     32273|        17| 0.3882111|\n",
      "|     19854|        17| 0.9243198|\n",
      "|      5206|        17| 3.6683917|\n",
      "|      2236|        17|0.21071935|\n",
      "|     15398|        17|0.98601174|\n",
      "|      5431|        17| 1.6802652|\n",
      "|     10747|        17| 7.3067737|\n",
      "|     14149|        17| 1.6429758|\n",
      "|     14586|        17|  4.337965|\n",
      "+----------+----------+----------+\n",
      "only showing top 10 rows\n",
      "\n"
     ]
    }
   ],
   "source": [
    "# generate dataframe of unlistened songs\n",
    "unlistened_songs = raw_plays_df_with_int_ids.filter(~ raw_plays_df_with_int_ids['new_songId'].isin(listened_songs_list)) \\\n",
    "                                            .select('new_songId').withColumn('new_UserId', F.lit(UserID)).distinct()\n",
    "\n",
    "unlistened_songs = unlistened_songs.withColumnRenamed('new_UserId', 'new_userId')\n",
    "\n",
    "#unlistened_songs = unlistened_songs.filter(col(\"new_songId\").cast(\"int\").isNotNull())\n",
    "unlistened_songs = unlistened_songs.withColumn(\"new_songId\", col(\"new_songId\").cast(\"integer\"))\n",
    "unlistened_songs = unlistened_songs.withColumn(\"new_userId\", col(\"new_userId\").cast(\"integer\"))\n",
    "\n",
    "# feed unlistened songs into model\n",
    "predicted_listens = my_model.transform(unlistened_songs)\n",
    "\n",
    "\n",
    "# remove NaNs\n",
    "predicted_listens = predicted_listens.filter(predicted_listens['prediction'] != float('nan'))\n",
    "predicted_listens.show(10)\n",
    "\n",
    "predicted_listens = predicted_listens.withColumn(\"new_songId\", col(\"new_songId\").cast(\"integer\"))\n",
    "predicted_listens = predicted_listens.withColumn(\"new_userId\", col(\"new_userId\").cast(\"integer\"))\n",
    "\n"
   ]
  },
  {
   "cell_type": "code",
   "execution_count": 18,
   "metadata": {},
   "outputs": [
    {
     "name": "stdout",
     "output_type": "stream",
     "text": [
      "Predicted Songs:\n"
     ]
    },
    {
     "name": "stderr",
     "output_type": "stream",
     "text": [
      "23/11/29 11:14:35 WARN RowBasedKeyValueBatch: Calling spill() on RowBasedKeyValueBatch. Will not spill but return 0.\n",
      "[Stage 1567:=================================================>      (8 + 1) / 9]\r"
     ]
    },
    {
     "name": "stdout",
     "output_type": "stream",
     "text": [
      "+---------------+---------------------------------+----------+\n",
      "|artist_name    |title                            |prediction|\n",
      "+---------------+---------------------------------+----------+\n",
      "|Van Halen      |Humans Being (Album Version)     |40.39946  |\n",
      "|Scumbucket     |Call Me Anyone                   |29.412138 |\n",
      "|The Ark        |Clamour For Glamour (Radio Edit) |27.924892 |\n",
      "|Les Nubians    |Unfaithful / Si Infidèle         |21.477009 |\n",
      "|Willie Gonzalez|No Podrás Escapar De Mi (En Vivo)|20.079897 |\n",
      "|Young Jeezy    |Keep It Movin                    |20.077602 |\n",
      "|Desmond Dekker |No Place Like Home               |19.63868  |\n",
      "|Jay Reatard    |No Time                          |19.552528 |\n",
      "|Super Cat      |Trash And Ready                  |19.505892 |\n",
      "|Anthony Rother |Back Home                        |19.38985  |\n",
      "+---------------+---------------------------------+----------+\n",
      "only showing top 10 rows\n",
      "\n"
     ]
    },
    {
     "name": "stderr",
     "output_type": "stream",
     "text": [
      "                                                                                \r"
     ]
    }
   ],
   "source": [
    "# print output\n",
    "print('Predicted Songs:')\n",
    "predicted_listens.join(raw_plays_df_with_int_ids, 'new_songId') \\\n",
    "                 .join(metadata_df, 'songId') \\\n",
    "                 .select('artist_name', 'title', 'prediction') \\\n",
    "                 .distinct() \\\n",
    "                 .orderBy('prediction', ascending = False) \\\n",
    "                 .show(10,truncate=False)"
   ]
  }
 ],
 "metadata": {
  "kernelspec": {
   "display_name": "metcs777_test",
   "language": "python",
   "name": "python3"
  },
  "language_info": {
   "codemirror_mode": {
    "name": "ipython",
    "version": 3
   },
   "file_extension": ".py",
   "mimetype": "text/x-python",
   "name": "python",
   "nbconvert_exporter": "python",
   "pygments_lexer": "ipython3",
   "version": "3.12.0"
  }
 },
 "nbformat": 4,
 "nbformat_minor": 2
}
